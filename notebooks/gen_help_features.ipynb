{
 "cells": [
  {
   "cell_type": "code",
   "execution_count": 1,
   "metadata": {},
   "outputs": [
    {
     "name": "stdout",
     "output_type": "stream",
     "text": [
      "../input/crop_train/HTC-1-M7/(HTC-1-M7)100_10_manip.jpg\n",
      "[1, 103.81816482543945, 59.525573987335754, 128.0, 255.0, 2.0, 43.831771850585938, 499.73059263732284, 1742.2497387817129, -0.26458231943014887, 0.004070778072698835, 54769, 14046, 24463, 3262, 34287, 113615, 6383, 402, 338, 10579, 95.132198333740234, 60.339420225828981, 118.0, 255.0, 0.0, 43.771568298339844, 507.69457779824734, 1816.408475741744, 0.024907945458827907, 0.13222835619670814, 63521, 7689, 23825, 2467, 83149, 69602, 656, 387, 313, 10535, 86.562847137451172, 58.411725161631026, 103.0, 255.0, 0.0, 42.140853881835938, 437.86382149066776, 1474.06302498281, 0.7786400814366612, 0.4790466300984756, 60350, 26889, 4876, 29577, 109603, 17759, 907, 714, 457, 11012]\n",
      "../input/test/img_0002a04_manip.tif\n",
      "[1, 187.38053131103516, 34.44172614719637, 205.0, 216.0, 35.0, 55.478790283203125, 1606.8642077660188, 718.40000813361257, 2.598499739004817, -1.8962484620320865, 0, 49, 3061, 10007, 13280, 12280, 21067, 57615, 144785, 0, 181.92602920532227, 34.237522867135674, 199.0, 211.0, 31.0, 56.464057922363281, 1638.0136587982997, 731.86704423930496, 2.5627968167261574, -1.8934768223759935, 0, 171, 3918, 11492, 13284, 12986, 23842, 180001, 16450, 0, 173.16130447387695, 28.067429701481672, 187.0, 201.0, 24.0, 58.559211730957031, 1679.8167786141858, 754.57218497619033, 3.00639442325049, -1.9684733343691445, 1, 32, 2593, 8421, 17391, 14998, 38927, 179781, 0, 0]\n"
     ]
    }
   ],
   "source": [
    "import glob\n",
    "import numpy as np\n",
    "from PIL import Image\n",
    "from scipy.ndimage import laplace, sobel\n",
    "from scipy.stats import kurtosis, skew\n",
    "\n",
    "def get_img_feat(img):\n",
    "    feats = [np.mean(img),np.std(img),np.median(img),np.max(img),np.min(img)]  \n",
    "    #Laplacian, Sobel, kurtosis and skewness\n",
    "    feats += [laplace(img, mode='reflect', cval=0.0).ravel().var()] #blurr\n",
    "    sobel0 = sobel(img, axis=0, mode='reflect', cval=0.0).ravel().var()\n",
    "    sobel1 = sobel(img, axis=1, mode='reflect', cval=0.0).ravel().var()\n",
    "    feats += [sobel0, sobel1]\n",
    "    feats += [kurtosis(img.ravel()), skew(img.ravel())]\n",
    "    # bins = 10, range = 0 to 255\n",
    "    feats += list(np.histogram(img,10,(0.0,255.0))[0])\n",
    "    return feats\n",
    "\n",
    "train_dir = '../input/crop_train'\n",
    "test_dir = '../input/test'\n",
    "test_files = sorted(glob.glob(test_dir+'/*'))\n",
    "train_files = sorted(glob.glob(train_dir+'/*/*'))\n",
    "\n",
    "def generate_img_feat(img_p):\n",
    "    if 'manip' in img_p:\n",
    "        feat = [1]\n",
    "    else:\n",
    "        feat = [0]\n",
    "    im_array = np.array(Image.open((img_p)), dtype=\"uint8\")*1.0\n",
    "    for ch in range(3):\n",
    "        tmp_feat = get_img_feat(im_array[:,:,ch])\n",
    "        feat = feat + tmp_feat\n",
    "    return feat\n",
    "\n",
    "print(train_files[0])\n",
    "print(generate_img_feat(train_files[0]))\n",
    "print(test_files[0])\n",
    "print(generate_img_feat(test_files[0]))"
   ]
  },
  {
   "cell_type": "code",
   "execution_count": 2,
   "metadata": {},
   "outputs": [
    {
     "name": "stdout",
     "output_type": "stream",
     "text": [
      "{'Sony-NEX-7': 0, 'iPhone-6': 6, 'LG-Nexus-5x': 7, 'Motorola-Droid-Maxx': 4, 'Motorola-Nexus-6': 9, 'HTC-1-M7': 2, 'Samsung-Galaxy-S4': 8, 'Motorola-X': 1, 'Samsung-Galaxy-Note3': 3, 'iPhone-4s': 5}\n",
      "----------------------------------------------\n",
      "processing 1000\n",
      "processing 2000\n",
      "processing 3000\n",
      "processing 4000\n",
      "processing 5000\n",
      "processing 6000\n",
      "processing 7000\n",
      "processing 8000\n",
      "processing 9000\n",
      "processing 10000\n",
      "processing 11000\n",
      "processing 12000\n",
      "processing 13000\n",
      "processing 14000\n",
      "processing 15000\n",
      "processing 16000\n",
      "processing 17000\n",
      "processing 18000\n",
      "processing 19000\n",
      "processing 20000\n",
      "processing 21000\n",
      "processing 22000\n",
      "processing 23000\n",
      "processing 24000\n",
      "processing 25000\n",
      "processing 26000\n",
      "processing 27000\n",
      "processing 28000\n",
      "processing 29000\n",
      "processing 30000\n",
      "processing 31000\n",
      "processing 32000\n",
      "processing 33000\n",
      "processing 34000\n",
      "processing 35000\n",
      "processing 36000\n",
      "processing 37000\n",
      "processing 38000\n",
      "processing 39000\n",
      "processing 40000\n",
      "processing 41000\n",
      "processing 42000\n",
      "processing 43000\n",
      "train_x done\n",
      "[1, 103.81816482543945, 59.525573987335754, 128.0, 255.0, 2.0, 43.831771850585938, 499.73059263732284, 1742.2497387817129, -0.26458231943014887, 0.004070778072698835, 54769, 14046, 24463, 3262, 34287, 113615, 6383, 402, 338, 10579, 95.132198333740234, 60.339420225828981, 118.0, 255.0, 0.0, 43.771568298339844, 507.69457779824734, 1816.408475741744, 0.024907945458827907, 0.13222835619670814, 63521, 7689, 23825, 2467, 83149, 69602, 656, 387, 313, 10535, 86.562847137451172, 58.411725161631026, 103.0, 255.0, 0.0, 42.140853881835938, 437.86382149066776, 1474.06302498281, 0.7786400814366612, 0.4790466300984756, 60350, 26889, 4876, 29577, 109603, 17759, 907, 714, 457, 11012]\n",
      "2\n",
      "processing 1000\n",
      "processing 2000\n",
      "test x done\n",
      "[1, 187.38053131103516, 34.44172614719637, 205.0, 216.0, 35.0, 55.478790283203125, 1606.8642077660188, 718.40000813361257, 2.598499739004817, -1.8962484620320865, 0, 49, 3061, 10007, 13280, 12280, 21067, 57615, 144785, 0, 181.92602920532227, 34.237522867135674, 199.0, 211.0, 31.0, 56.464057922363281, 1638.0136587982997, 731.86704423930496, 2.5627968167261574, -1.8934768223759935, 0, 171, 3918, 11492, 13284, 12986, 23842, 180001, 16450, 0, 173.16130447387695, 28.067429701481672, 187.0, 201.0, 24.0, 58.559211730957031, 1679.8167786141858, 754.57218497619033, 3.00639442325049, -1.9684733343691445, 1, 32, 2593, 8421, 17391, 14998, 38927, 179781, 0, 0]\n"
     ]
    }
   ],
   "source": [
    "list_classes = [\n",
    " 'Sony-NEX-7',\n",
    " 'Motorola-X',\n",
    " 'HTC-1-M7',\n",
    " 'Samsung-Galaxy-Note3',\n",
    " 'Motorola-Droid-Maxx',\n",
    " 'iPhone-4s',\n",
    " 'iPhone-6',\n",
    " 'LG-Nexus-5x',\n",
    " 'Samsung-Galaxy-S4',\n",
    " 'Motorola-Nexus-6']\n",
    "\n",
    "dict_cls = {}\n",
    "for i,k in enumerate(list_classes):\n",
    "    dict_cls[k] = i\n",
    "print(dict_cls)\n",
    "print('----------------------------------------------')\n",
    "tmp_cnt = 0\n",
    "x_data,y_data = [],[]\n",
    "for img_p in train_files:\n",
    "    tmp_cnt += 1\n",
    "    if tmp_cnt % 1000 == 0:\n",
    "        print('processing',tmp_cnt)\n",
    "    #print(img_p)\n",
    "    res = generate_img_feat(img_p)\n",
    "    x_data.append(res)\n",
    "    tmp_y = img_p.split('/')[-2]\n",
    "    y_data.append(dict_cls[tmp_y])\n",
    "\n",
    "print('train_x done')\n",
    "print(x_data[0])\n",
    "print(y_data[0])\n",
    "\n",
    "tmp_cnt = 0\n",
    "test_x_data = []\n",
    "for img_p in test_files:\n",
    "    tmp_cnt += 1\n",
    "    if tmp_cnt % 1000 == 0:\n",
    "        print('processing',tmp_cnt)\n",
    "    \n",
    "    res = generate_img_feat(img_p)\n",
    "    test_x_data.append(res)\n",
    "\n",
    "print('test x done')\n",
    "print(test_x_data[0])"
   ]
  },
  {
   "cell_type": "code",
   "execution_count": 3,
   "metadata": {},
   "outputs": [
    {
     "name": "stdout",
     "output_type": "stream",
     "text": [
      "save done\n"
     ]
    }
   ],
   "source": [
    "import pickle\n",
    "with open('../features/other_feat.pkl','wb') as fout:\n",
    "    pickle.dump([x_data,y_data,test_x_data],fout)\n",
    "print('save done')"
   ]
  }
 ],
 "metadata": {
  "kernelspec": {
   "display_name": "Python 3",
   "language": "python",
   "name": "python3"
  },
  "language_info": {
   "codemirror_mode": {
    "name": "ipython",
    "version": 3
   },
   "file_extension": ".py",
   "mimetype": "text/x-python",
   "name": "python",
   "nbconvert_exporter": "python",
   "pygments_lexer": "ipython3",
   "version": "3.5.2"
  }
 },
 "nbformat": 4,
 "nbformat_minor": 2
}
