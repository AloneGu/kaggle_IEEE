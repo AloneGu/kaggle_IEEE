{
 "cells": [
  {
   "cell_type": "code",
   "execution_count": 1,
   "metadata": {},
   "outputs": [
    {
     "name": "stdout",
     "output_type": "stream",
     "text": [
      "{'Samsung-Galaxy-S4': [0, 0, 0, 0, 0, 0, 0, 0, 1, 0], 'Motorola-X': [0, 1, 0, 0, 0, 0, 0, 0, 0, 0], 'Samsung-Galaxy-Note3': [0, 0, 0, 1, 0, 0, 0, 0, 0, 0], 'iPhone-4s': [0, 0, 0, 0, 0, 1, 0, 0, 0, 0], 'Sony-NEX-7': [1, 0, 0, 0, 0, 0, 0, 0, 0, 0], 'Motorola-Nexus-6': [0, 0, 0, 0, 0, 0, 0, 0, 0, 1], 'Motorola-Droid-Maxx': [0, 0, 0, 0, 1, 0, 0, 0, 0, 0], 'iPhone-6': [0, 0, 0, 0, 0, 0, 1, 0, 0, 0], 'HTC-1-M7': [0, 0, 1, 0, 0, 0, 0, 0, 0, 0], 'LG-Nexus-5x': [0, 0, 0, 0, 0, 0, 0, 1, 0, 0]}\n",
      "['../input/test/img_0002a04_manip.tif', '../input/test/img_001e31c_unalt.tif', '../input/test/img_00275cf_manip.tif', '../input/test/img_0034113_unalt.tif', '../input/test/img_00344b7_unalt.tif']\n",
      "['../input/train/HTC-1-M7/(HTC-1-M7)1.jpg', '../input/train/HTC-1-M7/(HTC-1-M7)10.jpg', '../input/train/HTC-1-M7/(HTC-1-M7)100.jpg', '../input/train/HTC-1-M7/(HTC-1-M7)101.jpg', '../input/train/HTC-1-M7/(HTC-1-M7)102.jpg']\n",
      "2640 2750\n"
     ]
    }
   ],
   "source": [
    "import glob\n",
    "import numpy as np\n",
    "from PIL import Image\n",
    "\n",
    "list_classes = [\n",
    " 'Sony-NEX-7',\n",
    " 'Motorola-X',\n",
    " 'HTC-1-M7',\n",
    " 'Samsung-Galaxy-Note3',\n",
    " 'Motorola-Droid-Maxx',\n",
    " 'iPhone-4s',\n",
    " 'iPhone-6',\n",
    " 'LG-Nexus-5x',\n",
    " 'Samsung-Galaxy-S4',\n",
    " 'Motorola-Nexus-6']\n",
    "\n",
    "list_dict = {}\n",
    "for i in range(10):\n",
    "    key = list_classes[i]\n",
    "    v = [0,0,0,0,0,0,0,0,0,0]\n",
    "    v[i] = 1\n",
    "    list_dict[key] = v\n",
    "print(list_dict)\n",
    "\n",
    "train_dir = '../input/train'\n",
    "test_dir = '../input/test'\n",
    "test_files = sorted(glob.glob(test_dir+'/*'))\n",
    "train_files = sorted(glob.glob(train_dir+'/*/*'))\n",
    "print(test_files[:5])\n",
    "print(train_files[:5])\n",
    "print(len(test_files),len(train_files))\n",
    "\n",
    "\n",
    "def get_img(img_path,crop=112):\n",
    "    im_array = np.array(Image.open((img_path)), dtype=\"float32\")\n",
    "    center_x = im_array.shape[1] // 2\n",
    "    half_crop = crop // 2\n",
    "    a,b = center_x - half_crop, center_x + half_crop\n",
    "    return im_array[a:b,a:b,:]"
   ]
  },
  {
   "cell_type": "code",
   "execution_count": 2,
   "metadata": {
    "scrolled": true
   },
   "outputs": [
    {
     "name": "stdout",
     "output_type": "stream",
     "text": [
      "../input/test/img_0002a04_manip.tif\n",
      "[[[ 206.  201.  189.]\n",
      "  [ 204.  199.  187.]\n",
      "  [ 204.  199.  187.]\n",
      "  ..., \n",
      "  [ 207.  202.  190.]\n",
      "  [ 207.  202.  190.]\n",
      "  [ 208.  203.  191.]]\n",
      "\n",
      " [[ 206.  201.  189.]\n",
      "  [ 205.  200.  188.]\n",
      "  [ 206.  201.  189.]\n",
      "  ..., \n",
      "  [ 207.  202.  190.]\n",
      "  [ 208.  203.  191.]\n",
      "  [ 207.  202.  190.]]\n",
      "\n",
      " [[ 205.  200.  188.]\n",
      "  [ 204.  199.  187.]\n",
      "  [ 206.  201.  189.]\n",
      "  ..., \n",
      "  [ 207.  202.  190.]\n",
      "  [ 208.  203.  191.]\n",
      "  [ 207.  202.  190.]]\n",
      "\n",
      " ..., \n",
      " [[ 207.  202.  188.]\n",
      "  [ 207.  202.  188.]\n",
      "  [ 207.  202.  188.]\n",
      "  ..., \n",
      "  [ 209.  202.  191.]\n",
      "  [ 208.  202.  190.]\n",
      "  [ 208.  202.  190.]]\n",
      "\n",
      " [[ 207.  202.  188.]\n",
      "  [ 207.  202.  188.]\n",
      "  [ 207.  202.  188.]\n",
      "  ..., \n",
      "  [ 209.  202.  191.]\n",
      "  [ 208.  202.  190.]\n",
      "  [ 208.  202.  190.]]\n",
      "\n",
      " [[ 207.  202.  188.]\n",
      "  [ 207.  202.  188.]\n",
      "  [ 207.  202.  188.]\n",
      "  ..., \n",
      "  [ 209.  202.  191.]\n",
      "  [ 208.  202.  190.]\n",
      "  [ 208.  202.  190.]]]\n",
      "(112, 112, 3)\n"
     ]
    }
   ],
   "source": [
    "test_p = test_files[0]\n",
    "print(test_p)\n",
    "img = get_img(test_p)\n",
    "print(img)\n",
    "print(img.shape)"
   ]
  },
  {
   "cell_type": "code",
   "execution_count": null,
   "metadata": {
    "scrolled": true
   },
   "outputs": [
    {
     "name": "stdout",
     "output_type": "stream",
     "text": [
      "[[[ 171.  145.  120.]\n",
      "  [ 188.  162.  137.]\n",
      "  [ 211.  186.  156.]\n",
      "  ..., \n",
      "  [  62.   61.    0.]\n",
      "  [  87.   82.   26.]\n",
      "  [ 109.   99.   46.]]\n",
      "\n",
      " [[ 196.  170.  145.]\n",
      "  [ 195.  171.  145.]\n",
      "  [ 202.  179.  148.]\n",
      "  ..., \n",
      "  [  77.   78.    8.]\n",
      "  [ 114.  112.   53.]\n",
      "  [ 116.  111.   56.]]\n",
      "\n",
      " [[ 175.  145.  109.]\n",
      "  [ 182.  152.  116.]\n",
      "  [ 188.  160.  123.]\n",
      "  ..., \n",
      "  [  94.   96.   21.]\n",
      "  [  88.   88.   24.]\n",
      "  [  89.   89.   29.]]\n",
      "\n",
      " ..., \n",
      " [[ 183.  142.  110.]\n",
      "  [ 190.  150.  114.]\n",
      "  [ 156.  117.   76.]\n",
      "  ..., \n",
      "  [ 106.   80.   31.]\n",
      "  [ 119.   95.   51.]\n",
      "  [ 128.  105.   71.]]\n",
      "\n",
      " [[ 181.  144.  115.]\n",
      "  [ 183.  147.  113.]\n",
      "  [ 146.  108.   71.]\n",
      "  ..., \n",
      "  [ 118.   94.   48.]\n",
      "  [  70.   48.    9.]\n",
      "  [ 121.  100.   69.]]\n",
      "\n",
      " [[ 178.  143.  113.]\n",
      "  [ 177.  142.  112.]\n",
      "  [ 167.  131.   97.]\n",
      "  ..., \n",
      "  [ 109.   88.   41.]\n",
      "  [  92.   72.   35.]\n",
      "  [ 161.  144.  114.]]]\n",
      "(112, 112, 3)\n"
     ]
    }
   ],
   "source": [
    "test_p = '../input/train/HTC-1-M7/(HTC-1-M7)1.jpg'\n",
    "img = get_img(test_p)\n",
    "print(img)\n",
    "print(img.shape)"
   ]
  },
  {
   "cell_type": "code",
   "execution_count": null,
   "metadata": {},
   "outputs": [
    {
     "name": "stdout",
     "output_type": "stream",
     "text": [
      "test done\n"
     ]
    }
   ],
   "source": [
    "train_x,train_y = [],[]\n",
    "test_x = []\n",
    "\n",
    "for img_p in test_files:\n",
    "    tmp_x = get_img(img_p,112)\n",
    "    test_x.append(tmp_x)\n",
    "print('test done')\n",
    "\n",
    "cnt = 0\n",
    "for img_p in train_files:\n",
    "    tmp_x = get_img(img_p,112)\n",
    "    tmp_y = img_p.split('/')[-2]\n",
    "    #tmp_y = list_dict[tmp_y]\n",
    "    train_x.append(tmp_x)\n",
    "    #train_y.append(tmp_y)\n",
    "    cnt += 1\n",
    "    if cnt % 500 == 0:\n",
    "        print(cnt)\n",
    "print('train done')\n",
    "\n",
    "\n",
    "\n",
    "# train_x = np.array(train_x)\n",
    "# train_y = np.array(train_y)\n",
    "# test_x = np.array(test_x)\n",
    "\n",
    "import pickle\n",
    "with open('../input/data112.pkl','wb') as fout:\n",
    "    pickle.dump([train_x,train_y,test_x],fout)\n",
    "print('done')"
   ]
  },
  {
   "cell_type": "code",
   "execution_count": null,
   "metadata": {},
   "outputs": [],
   "source": [
    "train_x,train_y = [],[]\n",
    "test_x = []\n",
    "\n",
    "for img_p in train_files:\n",
    "    tmp_x = get_img(img_p,224)\n",
    "    tmp_y = img_p.split('/')[-2]\n",
    "    #tmp_y = list_dict[tmp_y]\n",
    "    train_x.append(tmp_x)\n",
    "    train_y.append(tmp_y)\n",
    "print('train done')\n",
    "\n",
    "for img_p in test_files:\n",
    "    tmp_x = get_img(img_p,224)\n",
    "    test_x.append(tmp_x)\n",
    "\n",
    "# train_x = np.array(train_x)\n",
    "# train_y = np.array(train_y)\n",
    "# test_x = np.array(test_x)\n",
    "print('test done')\n",
    "\n",
    "import pickle\n",
    "with open('../input/data224.pkl','wb') as fout:\n",
    "    pickle.dump([train_x,train_y,test_x],fout)\n",
    "print('done')"
   ]
  }
 ],
 "metadata": {
  "kernelspec": {
   "display_name": "Python 3",
   "language": "python",
   "name": "python3"
  },
  "language_info": {
   "codemirror_mode": {
    "name": "ipython",
    "version": 3
   },
   "file_extension": ".py",
   "mimetype": "text/x-python",
   "name": "python",
   "nbconvert_exporter": "python",
   "pygments_lexer": "ipython3",
   "version": "3.5.2"
  }
 },
 "nbformat": 4,
 "nbformat_minor": 2
}
