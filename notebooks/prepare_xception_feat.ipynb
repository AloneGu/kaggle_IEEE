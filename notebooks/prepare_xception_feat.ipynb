{
 "cells": [
  {
   "cell_type": "code",
   "execution_count": 1,
   "metadata": {},
   "outputs": [
    {
     "name": "stderr",
     "output_type": "stream",
     "text": [
      "Using TensorFlow backend.\n"
     ]
    }
   ],
   "source": [
    "import glob\n",
    "\n",
    "train_dir = '../input/crop_train'\n",
    "test_dir = '../input/test'\n",
    "test_files = sorted(glob.glob(test_dir+'/*'))\n",
    "train_files = sorted(glob.glob(train_dir+'/*/*'))\n",
    "from keras.models import load_model\n",
    "model = load_model('best_xception_crop.h5')"
   ]
  },
  {
   "cell_type": "code",
   "execution_count": 2,
   "metadata": {},
   "outputs": [
    {
     "name": "stdout",
     "output_type": "stream",
     "text": [
      "def done\n"
     ]
    }
   ],
   "source": [
    "import os\n",
    "import numpy as np\n",
    "from PIL import Image\n",
    "import skimage\n",
    "import skimage.io\n",
    "import scipy.misc\n",
    "import imageio\n",
    "import warnings; warnings.simplefilter('ignore')\n",
    "CROP_LEN = 112\n",
    "\n",
    "\n",
    "def center_crop(im_array):\n",
    "    center_x = im_array.shape[0] // 2\n",
    "    center_y = im_array.shape[1] // 2\n",
    "    half_crop = CROP_LEN // 2\n",
    "    a = center_x - half_crop\n",
    "    b = a + CROP_LEN\n",
    "    c = center_y - half_crop\n",
    "    d = c + CROP_LEN\n",
    "    new_im_array = im_array[a:b,c:d,:]\n",
    "    return new_im_array\n",
    "\n",
    "\n",
    "def get_tta_img(img_path):\n",
    "    im_array = np.array(Image.open((img_path)), dtype=\"uint8\")\n",
    "    img_x = im_array.shape[0]\n",
    "    img_y = im_array.shape[1]\n",
    "    im_array = im_array/255.0\n",
    "    \n",
    "    img_list = []\n",
    "    img_list.append(center_crop(im_array))\n",
    "    for i in range(5):\n",
    "        for j in range(5):\n",
    "            a = i*100\n",
    "            b = a + 112\n",
    "            c = j*100\n",
    "            d = c + 112\n",
    "            img_list.append(im_array[a:b,c:d,:])\n",
    "    return np.array(img_list)\n",
    "print('def done')"
   ]
  },
  {
   "cell_type": "code",
   "execution_count": 3,
   "metadata": {},
   "outputs": [
    {
     "name": "stdout",
     "output_type": "stream",
     "text": [
      "processing 1000\n",
      "processing 2000\n",
      "processing 3000\n",
      "processing 4000\n",
      "processing 5000\n",
      "processing 6000\n",
      "processing 7000\n",
      "processing 8000\n",
      "processing 9000\n",
      "processing 10000\n",
      "processing 11000\n",
      "processing 12000\n",
      "processing 13000\n",
      "processing 14000\n",
      "processing 15000\n",
      "processing 16000\n",
      "processing 17000\n",
      "processing 18000\n",
      "processing 19000\n",
      "processing 20000\n",
      "processing 21000\n",
      "processing 22000\n",
      "processing 23000\n",
      "processing 24000\n",
      "processing 25000\n",
      "processing 26000\n",
      "processing 27000\n",
      "processing 28000\n",
      "processing 29000\n",
      "processing 30000\n",
      "processing 31000\n",
      "processing 32000\n",
      "processing 33000\n",
      "processing 34000\n",
      "processing 35000\n",
      "processing 36000\n",
      "processing 37000\n",
      "processing 38000\n",
      "processing 39000\n",
      "processing 40000\n",
      "processing 41000\n",
      "processing 42000\n",
      "processing 43000\n",
      "train_x done\n",
      "[0.038715824, 0.0054389383, 0.82709306, 0.005511425, 0.0029852896, 0.00064125628, 0.048602894, 0.014707477, 0.041944064, 0.014359762, 2]\n",
      "2\n",
      "processing 1000\n",
      "processing 2000\n",
      "test x done\n",
      "[0.0066897073, 0.066193111, 0.0051110429, 0.018088473, 0.044554632, 0.00067090249, 0.031132955, 0.31699353, 0.057383046, 0.45318255, 9]\n"
     ]
    }
   ],
   "source": [
    "list_classes = [\n",
    " 'Sony-NEX-7',\n",
    " 'Motorola-X',\n",
    " 'HTC-1-M7',\n",
    " 'Samsung-Galaxy-Note3',\n",
    " 'Motorola-Droid-Maxx',\n",
    " 'iPhone-4s',\n",
    " 'iPhone-6',\n",
    " 'LG-Nexus-5x',\n",
    " 'Samsung-Galaxy-S4',\n",
    " 'Motorola-Nexus-6']\n",
    "\n",
    "dict_cls = {}\n",
    "for i,k in enumerate(list_classes):\n",
    "    dict_cls[k] = i\n",
    "\n",
    "tmp_cnt = 0\n",
    "x_data,y_data = [],[]\n",
    "for img_p in train_files:\n",
    "    tmp_cnt += 1\n",
    "    if tmp_cnt % 1000 == 0:\n",
    "        print('processing',tmp_cnt)\n",
    "    \n",
    "    tta_imgs = get_tta_img(img_p)\n",
    "    preds = list(np.mean(model.predict(tta_imgs),axis=0))\n",
    "    max_idx = np.argmax(preds)\n",
    "    \n",
    "    # add x,y\n",
    "    res = preds + [max_idx]\n",
    "    x_data.append(res)\n",
    "    tmp_y = img_p.split('/')[-2]\n",
    "    y_data.append(dict_cls[tmp_y])\n",
    "\n",
    "print('train_x done')\n",
    "print(x_data[0])\n",
    "print(y_data[0])\n",
    "\n",
    "tmp_cnt = 0\n",
    "test_x_data = []\n",
    "for img_p in test_files:\n",
    "    tmp_cnt += 1\n",
    "    if tmp_cnt % 1000 == 0:\n",
    "        print('processing',tmp_cnt)\n",
    "    \n",
    "    tta_imgs = get_tta_img(img_p)\n",
    "    preds = list(np.mean(model.predict(tta_imgs),axis=0))\n",
    "    max_idx = np.argmax(preds)\n",
    "    \n",
    "    # add x,y\n",
    "    res = preds + [max_idx]\n",
    "    test_x_data.append(res)\n",
    "\n",
    "print('test x done')\n",
    "print(test_x_data[0])\n",
    "    \n",
    "\n",
    "\n"
   ]
  },
  {
   "cell_type": "code",
   "execution_count": 4,
   "metadata": {},
   "outputs": [
    {
     "name": "stdout",
     "output_type": "stream",
     "text": [
      "feat done\n"
     ]
    }
   ],
   "source": [
    "import pickle\n",
    "with open('../features/x_feat.pkl','wb') as fout:\n",
    "    pickle.dump([x_data,y_data,test_x_data],fout)\n",
    "print('feat done')"
   ]
  }
 ],
 "metadata": {
  "kernelspec": {
   "display_name": "Python 3",
   "language": "python",
   "name": "python3"
  },
  "language_info": {
   "codemirror_mode": {
    "name": "ipython",
    "version": 3
   },
   "file_extension": ".py",
   "mimetype": "text/x-python",
   "name": "python",
   "nbconvert_exporter": "python",
   "pygments_lexer": "ipython3",
   "version": "3.5.2"
  }
 },
 "nbformat": 4,
 "nbformat_minor": 2
}
