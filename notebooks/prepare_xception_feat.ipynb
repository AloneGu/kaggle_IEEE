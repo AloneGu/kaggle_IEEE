{
 "cells": [
  {
   "cell_type": "code",
   "execution_count": 1,
   "metadata": {},
   "outputs": [
    {
     "name": "stderr",
     "output_type": "stream",
     "text": [
      "Using TensorFlow backend.\n"
     ]
    }
   ],
   "source": [
    "import glob\n",
    "\n",
    "train_dir = '../input/crop_train'\n",
    "test_dir = '../input/test'\n",
    "test_files = sorted(glob.glob(test_dir+'/*'))\n",
    "train_files = sorted(glob.glob(train_dir+'/*/*'))\n",
    "from keras.models import load_model\n",
    "model = load_model('best_xception_manip.h5')"
   ]
  },
  {
   "cell_type": "code",
   "execution_count": 2,
   "metadata": {},
   "outputs": [
    {
     "name": "stdout",
     "output_type": "stream",
     "text": [
      "def done\n"
     ]
    }
   ],
   "source": [
    "import os\n",
    "import numpy as np\n",
    "from PIL import Image\n",
    "import skimage\n",
    "import skimage.io\n",
    "import scipy.misc\n",
    "import imageio\n",
    "import warnings; warnings.simplefilter('ignore')\n",
    "CROP_LEN = 112\n",
    "\n",
    "\n",
    "def center_crop(im_array):\n",
    "    center_x = im_array.shape[0] // 2\n",
    "    center_y = im_array.shape[1] // 2\n",
    "    half_crop = CROP_LEN // 2\n",
    "    a = center_x - half_crop\n",
    "    b = a + CROP_LEN\n",
    "    c = center_y - half_crop\n",
    "    d = c + CROP_LEN\n",
    "    new_im_array = im_array[a:b,c:d,:]\n",
    "    return new_im_array\n",
    "\n",
    "\n",
    "def get_tta_img(img_path):\n",
    "    im_array = np.array(Image.open((img_path)), dtype=\"uint8\")\n",
    "    img_x = im_array.shape[0]\n",
    "    img_y = im_array.shape[1]\n",
    "    im_array = im_array/255.0\n",
    "    \n",
    "    img_list = []\n",
    "    img_list.append(center_crop(im_array))\n",
    "    img_list.append(im_array[0:CROP_LEN,0:CROP_LEN,:])\n",
    "    img_list.append(im_array[0:CROP_LEN,img_y-CROP_LEN:img_y,:])\n",
    "    img_list.append(im_array[img_x-CROP_LEN:img_x,0:CROP_LEN,:])\n",
    "    img_list.append(im_array[img_x-CROP_LEN:img_x,img_y-CROP_LEN:img_y,:])\n",
    "    return np.array(img_list)\n",
    "print('def done')"
   ]
  },
  {
   "cell_type": "code",
   "execution_count": 3,
   "metadata": {
    "scrolled": true
   },
   "outputs": [
    {
     "name": "stdout",
     "output_type": "stream",
     "text": [
      "processing 500\n",
      "processing 1000\n",
      "processing 1500\n",
      "processing 2000\n",
      "processing 2500\n",
      "processing 3000\n",
      "processing 3500\n",
      "processing 4000\n",
      "processing 4500\n",
      "processing 5000\n",
      "processing 5500\n",
      "processing 6000\n",
      "processing 6500\n",
      "processing 7000\n",
      "processing 7500\n",
      "processing 8000\n",
      "processing 8500\n",
      "processing 9000\n",
      "processing 9500\n",
      "processing 10000\n",
      "processing 10500\n",
      "processing 11000\n",
      "processing 11500\n",
      "processing 12000\n",
      "processing 12500\n",
      "processing 13000\n",
      "processing 13500\n",
      "processing 14000\n",
      "processing 14500\n",
      "processing 15000\n",
      "processing 15500\n",
      "processing 16000\n",
      "processing 16500\n",
      "processing 17000\n",
      "processing 17500\n",
      "processing 18000\n",
      "processing 18500\n",
      "processing 19000\n",
      "processing 19500\n",
      "processing 20000\n",
      "processing 20500\n",
      "processing 21000\n",
      "processing 21500\n",
      "processing 22000\n",
      "processing 22500\n",
      "processing 23000\n",
      "processing 23500\n",
      "processing 24000\n",
      "processing 24500\n",
      "processing 25000\n",
      "processing 25500\n",
      "processing 26000\n",
      "processing 26500\n",
      "processing 27000\n",
      "processing 27500\n",
      "processing 28000\n",
      "processing 28500\n",
      "processing 29000\n",
      "processing 29500\n",
      "processing 30000\n",
      "processing 30500\n",
      "processing 31000\n",
      "processing 31500\n",
      "processing 32000\n",
      "processing 32500\n",
      "processing 33000\n",
      "processing 33500\n",
      "processing 34000\n",
      "processing 34500\n",
      "processing 35000\n",
      "processing 35500\n",
      "processing 36000\n",
      "processing 36500\n",
      "processing 37000\n",
      "processing 37500\n",
      "processing 38000\n",
      "processing 38500\n",
      "processing 39000\n",
      "processing 39500\n",
      "processing 40000\n",
      "processing 40500\n",
      "processing 41000\n",
      "processing 41500\n",
      "processing 42000\n",
      "processing 42500\n",
      "processing 43000\n",
      "processing 43500\n",
      "train_x done\n",
      "[7.0651717e-05, 0.023251031, 0.42236561, 0.51996887, 0.0011579413, 0.00043221694, 0.00094350899, 0.022366786, 0.0048452839, 0.0045980834, 0.0048143971, 0.01245171, 0.70761925, 0.16770668, 0.00028745621, 0.00029312007, 0.085108884, 0.01219907, 0.0064266347, 0.0030927628, 0.00065980933, 0.0018276467, 0.93693924, 0.0440295, 0.0001086773, 4.8221398e-05, 0.0047472776, 0.0085777221, 0.0011085523, 0.0019534801, 0.048996113, 0.02823017, 0.19405758, 0.48256102, 0.0018979323, 0.00022973071, 0.034688029, 0.041148338, 0.14224863, 0.025942471, 0.22819169, 0.012777766, 0.5244354, 0.0075923372, 0.010436194, 0.0094341487, 0.029598551, 0.018428499, 0.12912449, 0.029980926, 1]\n",
      "2\n"
     ]
    }
   ],
   "source": [
    "list_classes = [\n",
    " 'Sony-NEX-7',\n",
    " 'Motorola-X',\n",
    " 'HTC-1-M7',\n",
    " 'Samsung-Galaxy-Note3',\n",
    " 'Motorola-Droid-Maxx',\n",
    " 'iPhone-4s',\n",
    " 'iPhone-6',\n",
    " 'LG-Nexus-5x',\n",
    " 'Samsung-Galaxy-S4',\n",
    " 'Motorola-Nexus-6']\n",
    "\n",
    "tmp_cnt = 0\n",
    "x_data,y_data = [],[]\n",
    "for img_p in train_files:\n",
    "    tmp_cnt += 1\n",
    "    if tmp_cnt % 500 == 0:\n",
    "        print('processing',tmp_cnt)\n",
    "    \n",
    "    tta_imgs = get_tta_img(img_p)\n",
    "    if 'manip.jpg' in img_p:\n",
    "        manip_v = 1\n",
    "    else:\n",
    "        manip_v = 0\n",
    "    \n",
    "    # add x,y\n",
    "    res = list(model.predict(tta_imgs).flatten()) + [manip_v]\n",
    "    x_data.append(res)\n",
    "    tmp_y = img_p.split('/')[-2]\n",
    "    y_data.append(list_classes.index(tmp_y))\n",
    "\n",
    "print('train_x done')\n",
    "print(x_data[0])\n",
    "print(y_data[0])"
   ]
  },
  {
   "cell_type": "code",
   "execution_count": 4,
   "metadata": {},
   "outputs": [
    {
     "name": "stdout",
     "output_type": "stream",
     "text": [
      "processing 500\n",
      "processing 1000\n",
      "processing 1500\n",
      "processing 2000\n",
      "processing 2500\n",
      "test x done\n",
      "[0.02359141, 0.061537307, 0.0019089385, 0.01738517, 0.016727671, 0.0013747044, 0.33348948, 0.14577962, 0.04280499, 0.35540065, 0.0012152579, 0.33947885, 0.011290116, 0.082711026, 0.01061673, 9.2737217e-05, 0.042696849, 0.15168965, 0.011955949, 0.3482528, 0.00016892055, 0.4249813, 0.0058657425, 0.17064752, 0.015824525, 5.1346091e-05, 0.0046114125, 0.16277969, 0.050405115, 0.16466445, 2.8553446e-05, 0.01642832, 0.00090290239, 0.074985228, 0.010228889, 0.0007561784, 0.18931058, 0.5130145, 0.001205222, 0.19313964, 0.00014413751, 0.057914909, 0.00035841385, 0.20828924, 0.0063903141, 0.00015522163, 0.032842327, 0.29411545, 0.015266438, 0.38452363, 1]\n"
     ]
    }
   ],
   "source": [
    "tmp_cnt = 0\n",
    "test_x_data = []\n",
    "for img_p in test_files:\n",
    "    tmp_cnt += 1\n",
    "    if tmp_cnt % 500 == 0:\n",
    "        print('processing',tmp_cnt)\n",
    "    \n",
    "    tta_imgs = get_tta_img(img_p)\n",
    "    if 'manip' in img_p:\n",
    "        manip_v = 1\n",
    "    else:\n",
    "        manip_v = 0\n",
    "    \n",
    "    # add x,y\n",
    "    res = list(model.predict(tta_imgs).flatten()) + [manip_v]\n",
    "    test_x_data.append(res)\n",
    "\n",
    "print('test x done')\n",
    "print(test_x_data[0])\n",
    "\n"
   ]
  },
  {
   "cell_type": "code",
   "execution_count": 5,
   "metadata": {},
   "outputs": [
    {
     "name": "stdout",
     "output_type": "stream",
     "text": [
      "feat done\n"
     ]
    }
   ],
   "source": [
    "import pickle\n",
    "with open('../features/x_feat.pkl','wb') as fout:\n",
    "    pickle.dump([x_data,y_data,test_x_data],fout)\n",
    "print('feat done')"
   ]
  }
 ],
 "metadata": {
  "kernelspec": {
   "display_name": "Python 3",
   "language": "python",
   "name": "python3"
  },
  "language_info": {
   "codemirror_mode": {
    "name": "ipython",
    "version": 3
   },
   "file_extension": ".py",
   "mimetype": "text/x-python",
   "name": "python",
   "nbconvert_exporter": "python",
   "pygments_lexer": "ipython3",
   "version": "3.5.2"
  }
 },
 "nbformat": 4,
 "nbformat_minor": 2
}
