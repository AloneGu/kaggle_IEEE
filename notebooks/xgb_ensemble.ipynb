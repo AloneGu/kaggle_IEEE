{
 "cells": [
  {
   "cell_type": "code",
   "execution_count": 1,
   "metadata": {},
   "outputs": [
    {
     "name": "stdout",
     "output_type": "stream",
     "text": [
      "['../features/other_feat.pkl', '../features/resnet_feat.pkl', '../features/s_cnn_feat.pkl', '../features/x_feat.pkl']\n"
     ]
    }
   ],
   "source": [
    "import pickle\n",
    "import glob\n",
    "\n",
    "fl = sorted(glob.glob('../features/*.pkl'))\n",
    "print(fl)"
   ]
  },
  {
   "cell_type": "code",
   "execution_count": 2,
   "metadata": {},
   "outputs": [
    {
     "name": "stdout",
     "output_type": "stream",
     "text": [
      "4 43999\n"
     ]
    }
   ],
   "source": [
    "import numpy as np\n",
    "first_f = True\n",
    "train_x, train_y, test_x = [],[],[]\n",
    "for f in fl:\n",
    "    with open(f,'rb') as fin:\n",
    "        a,b,c = pickle.load(fin)\n",
    "        a = np.array(a)\n",
    "        b = np.array(b)\n",
    "        c = np.array(c)\n",
    "        \n",
    "        if first_f is True:\n",
    "            train_y = b\n",
    "            first_f = False\n",
    "            \n",
    "        train_x.append(a)\n",
    "        test_x.append(c)\n",
    "print(len(train_x),len(train_x[0]))"
   ]
  },
  {
   "cell_type": "code",
   "execution_count": 3,
   "metadata": {},
   "outputs": [
    {
     "name": "stdout",
     "output_type": "stream",
     "text": [
      "(43999, 94)\n",
      "(2640, 94)\n",
      "(43999,)\n"
     ]
    }
   ],
   "source": [
    "all_train_x = np.hstack(train_x)\n",
    "print(all_train_x.shape)\n",
    "all_test_x = np.hstack(test_x)\n",
    "print(all_test_x.shape)\n",
    "print(train_y.shape)"
   ]
  },
  {
   "cell_type": "code",
   "execution_count": 4,
   "metadata": {},
   "outputs": [
    {
     "name": "stdout",
     "output_type": "stream",
     "text": [
      "def done\n"
     ]
    }
   ],
   "source": [
    "from sklearn.model_selection import StratifiedKFold\n",
    "from sklearn.metrics import accuracy_score\n",
    "from xgboost import XGBClassifier\n",
    "def cv_test(k_cnt=3):\n",
    "    rnd = 420\n",
    "    kf = StratifiedKFold(n_splits=k_cnt, shuffle=True, random_state=rnd)\n",
    "    test_pred = None\n",
    "    for train_index, test_index in kf.split(all_train_x,train_y):\n",
    "        X_train, X_test = all_train_x[train_index], all_train_x[test_index]\n",
    "        y_train, y_test = train_y[train_index], train_y[test_index]\n",
    "        model = XGBClassifier()\n",
    "        model.fit(X_train,y_train)\n",
    "        \n",
    "        val_pred = model.predict(X_test)\n",
    "        print(accuracy_score(y_test,val_pred))\n",
    "        if test_pred is None:\n",
    "            test_pred = model.predict_proba(all_test_x)\n",
    "        else:\n",
    "            test_pred += model.predict_proba(all_test_x)\n",
    "        print('=============================')\n",
    "    return test_pred\n",
    "    \n",
    "print('def done')"
   ]
  },
  {
   "cell_type": "code",
   "execution_count": 5,
   "metadata": {},
   "outputs": [
    {
     "name": "stdout",
     "output_type": "stream",
     "text": [
      "0.990456714383\n",
      "=============================\n",
      "0.989978866998\n",
      "=============================\n",
      "0.98963165075\n",
      "=============================\n",
      "                   fname             camera\n",
      "0  img_0002a04_manip.tif        LG-Nexus-5x\n",
      "1  img_001e31c_unalt.tif          iPhone-4s\n",
      "2  img_00275cf_manip.tif           iPhone-6\n",
      "3  img_0034113_unalt.tif  Samsung-Galaxy-S4\n",
      "4  img_00344b7_unalt.tif         Motorola-X\n",
      "5  img_0062ce8_manip.tif  Samsung-Galaxy-S4\n",
      "6  img_00885c3_manip.tif           HTC-1-M7\n",
      "7  img_008a869_unalt.tif           HTC-1-M7\n",
      "8  img_008fb06_manip.tif  Samsung-Galaxy-S4\n",
      "9  img_00c98af_manip.tif        LG-Nexus-5x\n"
     ]
    }
   ],
   "source": [
    "import pandas as pd\n",
    "test_dir = '../input/test'\n",
    "test_files = sorted(glob.glob(test_dir+'/*'))\n",
    "list_classes = [\n",
    " 'Sony-NEX-7',\n",
    " 'Motorola-X',\n",
    " 'HTC-1-M7',\n",
    " 'Samsung-Galaxy-Note3',\n",
    " 'Motorola-Droid-Maxx',\n",
    " 'iPhone-4s',\n",
    " 'iPhone-6',\n",
    " 'LG-Nexus-5x',\n",
    " 'Samsung-Galaxy-S4',\n",
    " 'Motorola-Nexus-6']\n",
    "\n",
    "def gen_sub(k=3):\n",
    "    test_pred = cv_test(k)\n",
    "    y_res = np.argmax(test_pred,axis=1)\n",
    "    y_res = [list_classes[i] for i in y_res]\n",
    "    df = pd.read_csv('../input/sample_submission.csv')\n",
    "    f_name = [p.split('/')[-1] for p in test_files]\n",
    "    df['fname'] = f_name\n",
    "    df['camera'] = y_res\n",
    "    print(df.head(10))\n",
    "    df.to_csv('../results/xgb_{}fold.csv'.format(k),index=False)\n",
    "\n",
    "gen_sub(3)"
   ]
  },
  {
   "cell_type": "code",
   "execution_count": 6,
   "metadata": {},
   "outputs": [
    {
     "name": "stdout",
     "output_type": "stream",
     "text": [
      "0.990909090909\n",
      "=============================\n",
      "0.988863636364\n",
      "=============================\n",
      "0.992045454545\n",
      "=============================\n",
      "0.990113636364\n",
      "=============================\n",
      "0.988066825776\n",
      "=============================\n",
      "                   fname             camera\n",
      "0  img_0002a04_manip.tif        LG-Nexus-5x\n",
      "1  img_001e31c_unalt.tif          iPhone-4s\n",
      "2  img_00275cf_manip.tif           iPhone-6\n",
      "3  img_0034113_unalt.tif  Samsung-Galaxy-S4\n",
      "4  img_00344b7_unalt.tif         Motorola-X\n",
      "5  img_0062ce8_manip.tif  Samsung-Galaxy-S4\n",
      "6  img_00885c3_manip.tif           HTC-1-M7\n",
      "7  img_008a869_unalt.tif           HTC-1-M7\n",
      "8  img_008fb06_manip.tif  Samsung-Galaxy-S4\n",
      "9  img_00c98af_manip.tif        LG-Nexus-5x\n"
     ]
    }
   ],
   "source": [
    "gen_sub(5)"
   ]
  },
  {
   "cell_type": "code",
   "execution_count": null,
   "metadata": {},
   "outputs": [],
   "source": []
  }
 ],
 "metadata": {
  "kernelspec": {
   "display_name": "Python 3",
   "language": "python",
   "name": "python3"
  },
  "language_info": {
   "codemirror_mode": {
    "name": "ipython",
    "version": 3
   },
   "file_extension": ".py",
   "mimetype": "text/x-python",
   "name": "python",
   "nbconvert_exporter": "python",
   "pygments_lexer": "ipython3",
   "version": "3.5.2"
  }
 },
 "nbformat": 4,
 "nbformat_minor": 2
}
