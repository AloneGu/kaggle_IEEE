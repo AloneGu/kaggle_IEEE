{
 "cells": [
  {
   "cell_type": "code",
   "execution_count": 1,
   "metadata": {},
   "outputs": [
    {
     "name": "stderr",
     "output_type": "stream",
     "text": [
      "Using TensorFlow backend.\n"
     ]
    }
   ],
   "source": [
    "import glob\n",
    "\n",
    "train_dir = '../input/crop_train'\n",
    "test_dir = '../input/test'\n",
    "test_files = sorted(glob.glob(test_dir+'/*'))\n",
    "train_files = sorted(glob.glob(train_dir+'/*/*'))\n",
    "from keras.models import load_model\n",
    "model = load_model('best_resnet_manip.h5')"
   ]
  },
  {
   "cell_type": "code",
   "execution_count": 2,
   "metadata": {},
   "outputs": [
    {
     "name": "stdout",
     "output_type": "stream",
     "text": [
      "def done\n"
     ]
    }
   ],
   "source": [
    "import os\n",
    "import numpy as np\n",
    "from PIL import Image\n",
    "import skimage\n",
    "import skimage.io\n",
    "import scipy.misc\n",
    "import imageio\n",
    "import warnings; warnings.simplefilter('ignore')\n",
    "CROP_LEN = 224\n",
    "\n",
    "\n",
    "def center_crop(im_array):\n",
    "    center_x = im_array.shape[0] // 2\n",
    "    center_y = im_array.shape[1] // 2\n",
    "    half_crop = CROP_LEN // 2\n",
    "    a = center_x - half_crop\n",
    "    b = a + CROP_LEN\n",
    "    c = center_y - half_crop\n",
    "    d = c + CROP_LEN\n",
    "    new_im_array = im_array[a:b,c:d,:]\n",
    "    return new_im_array\n",
    "    \n",
    "       \n",
    "\n",
    "def get_tta_img(img_path):\n",
    "    im_array = np.array(Image.open((img_path)), dtype=\"uint8\")\n",
    "    img_x = im_array.shape[0]\n",
    "    img_y = im_array.shape[1]\n",
    "    im_array = im_array/127.5\n",
    "    im_array = im_array - 1.0\n",
    "    \n",
    "    img_list = []\n",
    "    img_list.append(center_crop(im_array))\n",
    "    img_list.append(im_array[0:CROP_LEN,0:CROP_LEN,:])\n",
    "    img_list.append(im_array[0:CROP_LEN,img_y-CROP_LEN:img_y,:])\n",
    "    img_list.append(im_array[img_x-CROP_LEN:img_x,0:CROP_LEN,:])\n",
    "    img_list.append(im_array[img_x-CROP_LEN:img_x,img_y-CROP_LEN:img_y,:])\n",
    "    return np.array(img_list)\n",
    "print('def done')"
   ]
  },
  {
   "cell_type": "code",
   "execution_count": 3,
   "metadata": {
    "scrolled": true
   },
   "outputs": [
    {
     "name": "stdout",
     "output_type": "stream",
     "text": [
      "processing 500\n",
      "processing 1000\n",
      "processing 1500\n",
      "processing 2000\n",
      "processing 2500\n",
      "processing 3000\n",
      "processing 3500\n",
      "processing 4000\n",
      "processing 4500\n",
      "processing 5000\n",
      "processing 5500\n",
      "processing 6000\n",
      "processing 6500\n",
      "processing 7000\n",
      "processing 7500\n",
      "processing 8000\n",
      "processing 8500\n",
      "processing 9000\n",
      "processing 9500\n",
      "processing 10000\n",
      "processing 10500\n",
      "processing 11000\n",
      "processing 11500\n",
      "processing 12000\n",
      "processing 12500\n",
      "processing 13000\n",
      "processing 13500\n",
      "processing 14000\n",
      "processing 14500\n",
      "processing 15000\n",
      "processing 15500\n",
      "processing 16000\n",
      "processing 16500\n",
      "processing 17000\n",
      "processing 17500\n",
      "processing 18000\n",
      "processing 18500\n",
      "processing 19000\n",
      "processing 19500\n",
      "processing 20000\n",
      "processing 20500\n",
      "processing 21000\n",
      "processing 21500\n",
      "processing 22000\n",
      "processing 22500\n",
      "processing 23000\n",
      "processing 23500\n",
      "processing 24000\n",
      "processing 24500\n",
      "processing 25000\n",
      "processing 25500\n",
      "processing 26000\n",
      "processing 26500\n",
      "processing 27000\n",
      "processing 27500\n",
      "processing 28000\n",
      "processing 28500\n",
      "processing 29000\n",
      "processing 29500\n",
      "processing 30000\n",
      "processing 30500\n",
      "processing 31000\n",
      "processing 31500\n",
      "processing 32000\n",
      "processing 32500\n",
      "processing 33000\n",
      "processing 33500\n",
      "processing 34000\n",
      "processing 34500\n",
      "processing 35000\n",
      "processing 35500\n",
      "processing 36000\n",
      "processing 36500\n",
      "processing 37000\n",
      "processing 37500\n",
      "processing 38000\n",
      "processing 38500\n",
      "processing 39000\n",
      "processing 39500\n",
      "processing 40000\n",
      "processing 40500\n",
      "processing 41000\n",
      "processing 41500\n",
      "processing 42000\n",
      "processing 42500\n",
      "processing 43000\n",
      "processing 43500\n",
      "train_x done\n",
      "[0.044057254, 0.098451264, 0.43340087, 0.16515021, 0.026937937, 0.0030612964, 0.0079387901, 0.15846327, 0.04449806, 0.018041076, 0.0021080212, 0.015735447, 0.77515501, 0.019486167, 0.0027760384, 0.0022035995, 0.038084202, 0.13376562, 0.0050315377, 0.0056543974, 0.11912177, 0.0086504417, 0.51279992, 0.05461942, 0.0074728085, 0.0054825167, 0.0076036304, 0.095178872, 0.18292217, 0.0061484012, 0.095033281, 0.0053400779, 0.17007792, 0.46992019, 0.0023397054, 0.0051216711, 0.0078158677, 0.052317515, 0.14924172, 0.042792086, 0.10454971, 0.062475096, 0.30153319, 0.010337637, 0.055358957, 0.0052509932, 0.008100545, 0.059235059, 0.35421667, 0.038942192, 1]\n",
      "2\n"
     ]
    }
   ],
   "source": [
    "list_classes = [\n",
    " 'Sony-NEX-7',\n",
    " 'Motorola-X',\n",
    " 'HTC-1-M7',\n",
    " 'Samsung-Galaxy-Note3',\n",
    " 'Motorola-Droid-Maxx',\n",
    " 'iPhone-4s',\n",
    " 'iPhone-6',\n",
    " 'LG-Nexus-5x',\n",
    " 'Samsung-Galaxy-S4',\n",
    " 'Motorola-Nexus-6']\n",
    "\n",
    "tmp_cnt = 0\n",
    "x_data,y_data = [],[]\n",
    "for img_p in train_files:\n",
    "    tmp_cnt += 1\n",
    "    if tmp_cnt % 500 == 0:\n",
    "        print('processing',tmp_cnt)\n",
    "    \n",
    "    tta_imgs = get_tta_img(img_p)\n",
    "    if 'manip.jpg' in img_p:\n",
    "        manip_v = 1\n",
    "    else:\n",
    "        manip_v = 0\n",
    "    \n",
    "    # add x,y\n",
    "    res = list(model.predict(tta_imgs).flatten()) + [manip_v]\n",
    "    x_data.append(res)\n",
    "    tmp_y = img_p.split('/')[-2]\n",
    "    y_data.append(list_classes.index(tmp_y))\n",
    "\n",
    "print('train_x done')\n",
    "print(x_data[0])\n",
    "print(y_data[0])"
   ]
  },
  {
   "cell_type": "code",
   "execution_count": 4,
   "metadata": {},
   "outputs": [
    {
     "name": "stdout",
     "output_type": "stream",
     "text": [
      "processing 500\n",
      "processing 1000\n",
      "processing 1500\n",
      "processing 2000\n",
      "processing 2500\n",
      "test x done\n",
      "[0.0022756686, 0.064584129, 0.002971933, 0.10508423, 0.0052514421, 9.8229822e-05, 0.12690748, 0.17920119, 0.078086555, 0.43553907, 0.20813885, 0.023271188, 0.12396767, 0.11965734, 0.013667932, 0.021144994, 0.10101362, 0.026985647, 0.25957, 0.1025828, 0.070693165, 0.040719368, 0.13517985, 0.10667839, 0.049850974, 0.0051132259, 0.034239713, 0.21288668, 0.20879658, 0.13584208, 0.0015769987, 0.049923912, 0.0026582116, 0.0033539408, 0.019032061, 0.00041402763, 0.77490652, 0.04398213, 0.022729337, 0.081422858, 0.0018969132, 0.060594339, 0.0014578403, 0.0078274244, 0.010838271, 0.00010022481, 0.50905329, 0.12307306, 0.061604317, 0.22355428, 1]\n"
     ]
    }
   ],
   "source": [
    "tmp_cnt = 0\n",
    "test_x_data = []\n",
    "for img_p in test_files:\n",
    "    tmp_cnt += 1\n",
    "    if tmp_cnt % 500 == 0:\n",
    "        print('processing',tmp_cnt)\n",
    "    \n",
    "    tta_imgs = get_tta_img(img_p)\n",
    "    if 'manip' in img_p:\n",
    "        manip_v = 1\n",
    "    else:\n",
    "        manip_v = 0\n",
    "    \n",
    "    # add x,y\n",
    "    res = list(model.predict(tta_imgs).flatten()) + [manip_v]\n",
    "    test_x_data.append(res)\n",
    "\n",
    "print('test x done')\n",
    "print(test_x_data[0])\n",
    "\n"
   ]
  },
  {
   "cell_type": "code",
   "execution_count": 5,
   "metadata": {},
   "outputs": [
    {
     "name": "stdout",
     "output_type": "stream",
     "text": [
      "feat done\n"
     ]
    }
   ],
   "source": [
    "import pickle\n",
    "with open('../features/resnet_feat.pkl','wb') as fout:\n",
    "    pickle.dump([x_data,y_data,test_x_data],fout)\n",
    "print('feat done')"
   ]
  }
 ],
 "metadata": {
  "kernelspec": {
   "display_name": "Python 3",
   "language": "python",
   "name": "python3"
  },
  "language_info": {
   "codemirror_mode": {
    "name": "ipython",
    "version": 3
   },
   "file_extension": ".py",
   "mimetype": "text/x-python",
   "name": "python",
   "nbconvert_exporter": "python",
   "pygments_lexer": "ipython3",
   "version": "3.5.2"
  }
 },
 "nbformat": 4,
 "nbformat_minor": 2
}
