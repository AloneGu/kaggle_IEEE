{
 "cells": [
  {
   "cell_type": "code",
   "execution_count": 5,
   "metadata": {},
   "outputs": [
    {
     "name": "stdout",
     "output_type": "stream",
     "text": [
      "[[[120 154 215]\n",
      "  [125 157 216]\n",
      "  [129 160 215]\n",
      "  ..., \n",
      "  [116 118 166]\n",
      "  [118 120 168]\n",
      "  [121 123 171]]\n",
      "\n",
      " [[117 151 212]\n",
      "  [121 156 214]\n",
      "  [126 157 212]\n",
      "  ..., \n",
      "  [111 115 162]\n",
      "  [112 116 163]\n",
      "  [120 124 171]]\n",
      "\n",
      " [[118 154 212]\n",
      "  [121 156 214]\n",
      "  [123 156 210]\n",
      "  ..., \n",
      "  [116 123 169]\n",
      "  [113 121 167]\n",
      "  [112 120 166]]\n",
      "\n",
      " ..., \n",
      " [[139 137 116]\n",
      "  [138 136 115]\n",
      "  [136 135 117]\n",
      "  ..., \n",
      "  [ 83  82  87]\n",
      "  [ 89  87  90]\n",
      "  [ 84  82  85]]\n",
      "\n",
      " [[135 133 112]\n",
      "  [135 133 112]\n",
      "  [138 135 118]\n",
      "  ..., \n",
      "  [ 79  78  83]\n",
      "  [ 80  78  81]\n",
      "  [ 84  82  83]]\n",
      "\n",
      " [[137 135 114]\n",
      "  [136 134 113]\n",
      "  [142 139 122]\n",
      "  ..., \n",
      "  [ 75  75  77]\n",
      "  [ 73  71  74]\n",
      "  [ 80  78  79]]]\n"
     ]
    }
   ],
   "source": [
    "import skimage.io\n",
    "import numpy as np\n",
    "from PIL import Image\n",
    "test_p = '/home/jac/Documents/my_github/kaggle_IEEE/input/train/HTC-1-M7/(HTC-1-M7)1.jpg'\n",
    "img1 = skimage.io.imread(test_p)\n",
    "print(img1)"
   ]
  },
  {
   "cell_type": "code",
   "execution_count": 6,
   "metadata": {},
   "outputs": [
    {
     "name": "stdout",
     "output_type": "stream",
     "text": [
      "[[[120 154 215]\n",
      "  [125 157 216]\n",
      "  [129 160 215]\n",
      "  ..., \n",
      "  [116 118 166]\n",
      "  [118 120 168]\n",
      "  [121 123 171]]\n",
      "\n",
      " [[117 151 212]\n",
      "  [121 156 214]\n",
      "  [126 157 212]\n",
      "  ..., \n",
      "  [111 115 162]\n",
      "  [112 116 163]\n",
      "  [120 124 171]]\n",
      "\n",
      " [[118 154 212]\n",
      "  [121 156 214]\n",
      "  [123 156 210]\n",
      "  ..., \n",
      "  [116 123 169]\n",
      "  [113 121 167]\n",
      "  [112 120 166]]\n",
      "\n",
      " ..., \n",
      " [[139 137 116]\n",
      "  [138 136 115]\n",
      "  [136 135 117]\n",
      "  ..., \n",
      "  [ 83  82  87]\n",
      "  [ 89  87  90]\n",
      "  [ 84  82  85]]\n",
      "\n",
      " [[135 133 112]\n",
      "  [135 133 112]\n",
      "  [138 135 118]\n",
      "  ..., \n",
      "  [ 79  78  83]\n",
      "  [ 80  78  81]\n",
      "  [ 84  82  83]]\n",
      "\n",
      " [[137 135 114]\n",
      "  [136 134 113]\n",
      "  [142 139 122]\n",
      "  ..., \n",
      "  [ 75  75  77]\n",
      "  [ 73  71  74]\n",
      "  [ 80  78  79]]]\n"
     ]
    }
   ],
   "source": [
    "img2 = np.array(Image.open((test_p)), dtype=\"uint8\")\n",
    "print(img2)"
   ]
  },
  {
   "cell_type": "code",
   "execution_count": 7,
   "metadata": {},
   "outputs": [
    {
     "name": "stderr",
     "output_type": "stream",
     "text": [
      "/usr/local/lib/python3.5/dist-packages/ipykernel_launcher.py:2: DeprecationWarning: `imresize` is deprecated!\n",
      "`imresize` is deprecated in SciPy 1.0.0, and will be removed in 1.2.0.\n",
      "Use ``skimage.transform.resize`` instead.\n",
      "  \n"
     ]
    },
    {
     "name": "stdout",
     "output_type": "stream",
     "text": [
      "(5376, 3040, 3) (2688, 1520, 3)\n"
     ]
    }
   ],
   "source": [
    "import scipy.misc\n",
    "img3 = scipy.misc.imresize(img2, 2.0, interp='bicubic')\n",
    "print(img3.shape,img2.shape)"
   ]
  }
 ],
 "metadata": {
  "kernelspec": {
   "display_name": "Python 3",
   "language": "python",
   "name": "python3"
  },
  "language_info": {
   "codemirror_mode": {
    "name": "ipython",
    "version": 3
   },
   "file_extension": ".py",
   "mimetype": "text/x-python",
   "name": "python",
   "nbconvert_exporter": "python",
   "pygments_lexer": "ipython3",
   "version": "3.5.2"
  }
 },
 "nbformat": 4,
 "nbformat_minor": 2
}
